{
 "cells": [
  {
   "cell_type": "code",
   "execution_count": 10,
   "id": "254d31e7-5edf-4f95-b2fc-db2165f6e0c3",
   "metadata": {},
   "outputs": [
    {
     "name": "stdout",
     "output_type": "stream",
     "text": [
      "Current temperature in Paris is 25℃\n"
     ]
    }
   ],
   "source": [
    "# coding: utf-8\n",
    "import requests\n",
    "\n",
    "params = {\n",
    "  'access_key': '0d04d9264a63b76659c58596c16e0fda',\n",
    "  'query': 'Paris'\n",
    "}\n",
    "\n",
    "api_result = requests.get('http://api.weatherstack.com/current', params)\n",
    "\n",
    "api_response = api_result.json()\n",
    "\n",
    "print(u'Current temperature in %s is %d℃' % (api_response['location']['name'], api_response['current']['temperature']))"
   ]
  },
  {
   "cell_type": "code",
   "execution_count": 12,
   "id": "4eaf415c-9667-4dbc-8352-9299f66a1e66",
   "metadata": {},
   "outputs": [
    {
     "data": {
      "text/plain": [
       "{'request': {'type': 'City',\n",
       "  'query': 'Paris, France',\n",
       "  'language': 'en',\n",
       "  'unit': 'm'},\n",
       " 'location': {'name': 'Paris',\n",
       "  'country': 'France',\n",
       "  'region': 'Ile-de-France',\n",
       "  'lat': '48.867',\n",
       "  'lon': '2.333',\n",
       "  'timezone_id': 'Europe/Paris',\n",
       "  'localtime': '2022-06-11 14:49',\n",
       "  'localtime_epoch': 1654958940,\n",
       "  'utc_offset': '2.0'},\n",
       " 'current': {'observation_time': '12:49 PM',\n",
       "  'temperature': 25,\n",
       "  'weather_code': 116,\n",
       "  'weather_icons': ['https://assets.weatherstack.com/images/wsymbols01_png_64/wsymbol_0002_sunny_intervals.png'],\n",
       "  'weather_descriptions': ['Partly cloudy'],\n",
       "  'wind_speed': 4,\n",
       "  'wind_degree': 314,\n",
       "  'wind_dir': 'NW',\n",
       "  'pressure': 1023,\n",
       "  'precip': 0,\n",
       "  'humidity': 54,\n",
       "  'cloudcover': 75,\n",
       "  'feelslike': 26,\n",
       "  'uv_index': 5,\n",
       "  'visibility': 10,\n",
       "  'is_day': 'yes'}}"
      ]
     },
     "execution_count": 12,
     "metadata": {},
     "output_type": "execute_result"
    }
   ],
   "source": [
    "api_response"
   ]
  }
 ],
 "metadata": {
  "kernelspec": {
   "display_name": "Python 3 (ipykernel)",
   "language": "python",
   "name": "python3"
  },
  "language_info": {
   "codemirror_mode": {
    "name": "ipython",
    "version": 3
   },
   "file_extension": ".py",
   "mimetype": "text/x-python",
   "name": "python",
   "nbconvert_exporter": "python",
   "pygments_lexer": "ipython3",
   "version": "3.9.12"
  }
 },
 "nbformat": 4,
 "nbformat_minor": 5
}
